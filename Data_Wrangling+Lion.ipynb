{
  "nbformat": 4,
  "nbformat_minor": 0,
  "metadata": {
    "colab": {
      "provenance": []
    },
    "kernelspec": {
      "name": "python3",
      "display_name": "Python 3"
    },
    "language_info": {
      "name": "python"
    }
  },
  "cells": [
    {
      "cell_type": "markdown",
      "source": [
        "El siguiente dataset contiene información sobre cursos disponibles en la plataforma Udemy. Cada registro representa un curso y cuenta con información detallada sobre su título, descripción, características y atributos relevantes para los usuarios. Los atributos incluyen información sobre el precio, la cantidad de estudiantes inscritos, la calificación promedio, la cantidad de comentarios y la duración total del contenido del curso. Además, se clasifica cada curso en diferentes áreas temáticas y el idioma en el que se imparten.\n",
        "\n",
        "La motivación para analizar este dataset es entender las tendencias en el mercado de la educación en línea y cómo los usuarios están interactuando con los cursos en la plataforma Udemy. Lo cual podría ayudar a identificar áreas de oportunidad para mejorar la oferta de cursos y maximizar los ingresos de la plataforma. La audiencia que podría estar interesada en este análisis incluye a los propios administradores de la plataforma Udemy, así como a inversores interesados en el mercado de la educación en línea y profesionales de marketing y publicidad en línea. Así como para personas interesadas en tomar cursos en línea y que buscan información sobre qué cursos son más populares.\n"
      ],
      "metadata": {
        "id": "RJr4u6F6D8n9"
      }
    },
    {
      "cell_type": "markdown",
      "source": [
        "\n",
        "Preguntas e hipótesis a abordar:\n",
        "\n",
        "* ¿Cuáles son las categorías de cursos más populares en la plataforma Udemy?\n",
        "Hipótesis nula: La popularidad de las categorías de cursos en la plataforma Udemy es independiente del precio de los cursos.\n",
        "Hipótesis alternativa: La popularidad de las categorías de cursos en la plataforma Udemy depende del precio de los cursos.\n",
        "\n",
        "\n",
        "* ¿Cómo se relaciona el precio de los cursos con el número de estudiantes inscritos?\n",
        "Hipótesis nula: No hay relación significativa entre el precio de los cursos y el número de estudiantes inscritos.\n",
        "Hipótesis alternativa: Existe una relación significativa entre el precio de los cursos y el número de estudiantes inscritos.\n",
        "\n",
        "\n",
        "* ¿Cómo varía la popularidad de los cursos en función de su idioma y su categoría temática en Udemy?\n",
        "Hipótesis nula: La popularidad de los cursos no varía significativamente en función del idioma y la categoría temática en Udemy.\n",
        "Hipótesis alternativa: La popularidad de los cursos varía significativamente en función del idioma y la categoría temática en Udemy.\n",
        "\n"
      ],
      "metadata": {
        "id": "phJBU7m-2B3s"
      }
    },
    {
      "cell_type": "markdown",
      "source": [
        "Definición de objetivo, Contexto comercial, Problema Comercial y Contexto analítico:\n",
        "\n",
        "El objetivo de este proyecto podría ser identificar las características de los cursos más populares y recomendados en cada categoría para mejorar la oferta de cursos en la plataforma.\n",
        "\n",
        "El contexto comercial es el mercado de educación en línea, donde existen diversas plataformas que ofrecen cursos en línea. El objetivo es ofrecer cursos que se adapten a las necesidades y preferencias de los estudiantes para aumentar su satisfacción frente a la plataforma Udemy.\n",
        "\n",
        "El problema comercial es el desdeo de la plataforma de mejorar su oferta de cursos para atraer a más estudiantes. Para ello, es importante entender qué características tienen los cursos más populares y recomendados en cada categoría.\n",
        "\n",
        "Contexto analítico: utilizando los datos disponibles de los cursos en la plataforma, se realizará un análisis exploratorio de las tres categorías más populares (Development, Business y IT & Software) para identificar patrones y tendencias en cuanto a duración, precio y número de lecturas. También se analizará la relación entre estas variables y el número de inscritos para entender cómo estas características afectan al curso. A partir de estos análisis, se podrán identificar las características más importantes para un curso exitoso en cada categoría y así mejorar la oferta de la plataforma Udemy."
      ],
      "metadata": {
        "id": "U8H-5F2Jd_rN"
      }
    },
    {
      "cell_type": "markdown",
      "source": [
        "# ***EDA (Exploratory Data Analysis)***\n"
      ],
      "metadata": {
        "id": "TwO9hz9YAATs"
      }
    },
    {
      "cell_type": "code",
      "source": [
        "import pandas as pd\n",
        "import numpy as np\n",
        "import matplotlib.pyplot as plt\n",
        "import seaborn as sns\n",
        "from sklearn.linear_model import LinearRegression\n",
        "from sklearn.preprocessing import LabelEncoder, OneHotEncoder\n",
        "from sklearn.compose import ColumnTransformer"
      ],
      "metadata": {
        "id": "5lL1GWntAQ9E"
      },
      "execution_count": null,
      "outputs": []
    },
    {
      "cell_type": "code",
      "source": [
        "data_udemy = pd.read_csv('/content/Course_info.csv') #leemos el archivo csv.\n",
        "data_udemy.head()"
      ],
      "metadata": {
        "id": "E-8A9Drd7BuJ",
        "colab": {
          "base_uri": "https://localhost:8080/",
          "height": 583
        },
        "outputId": "ead43950-814b-4c54-8aa0-515ebddebdd6"
      },
      "execution_count": null,
      "outputs": [
        {
          "output_type": "execute_result",
          "data": {
            "text/plain": [
              "       id                                              title  is_paid   price  \\\n",
              "0  4715.0             Online Vegan Vegetarian Cooking School     True   24.99   \n",
              "1  1769.0         The Lean Startup Talk at Stanford E-Corner    False    0.00   \n",
              "2  5664.0  How To Become a Vegan, Vegetarian, or Flexitarian     True   19.99   \n",
              "3  7723.0                               How to Train a Puppy     True  199.99   \n",
              "4  8157.0                      Web Design from the Ground Up     True  159.99   \n",
              "\n",
              "                                            headline  num_subscribers  \\\n",
              "0  Learn to cook delicious vegan recipes. Filmed ...           2231.0   \n",
              "1  Debunking Myths of Entrepreneurship A startup ...          26474.0   \n",
              "2  Get the tools you need for a lifestyle change ...           1713.0   \n",
              "3  Train your puppy the right way with Dr. Ian Du...           4988.0   \n",
              "4  Learn web design online: Everything you need t...           1266.0   \n",
              "\n",
              "   avg_rating  num_reviews  num_comments  num_lectures  content_length_min  \\\n",
              "0        3.75        134.0          42.0          37.0              1268.0   \n",
              "1        4.50        709.0         112.0           9.0                88.0   \n",
              "2        4.40         41.0          13.0          14.0                82.0   \n",
              "3        4.80        395.0          88.0          36.0              1511.0   \n",
              "4        4.75         38.0          12.0          38.0               569.0   \n",
              "\n",
              "         published_time last_update_date   category          subcategory  \\\n",
              "0  2010-08-05T22:06:13Z       2020-11-06  Lifestyle      Food & Beverage   \n",
              "1  2010-01-12T18:09:46Z              NaN   Business     Entrepreneurship   \n",
              "2  2010-10-13T18:07:17Z       2019-10-09  Lifestyle      Other Lifestyle   \n",
              "3  2011-06-20T20:08:38Z       2016-01-13  Lifestyle  Pet Care & Training   \n",
              "4  2011-06-23T18:31:20Z              NaN     Design           Web Design   \n",
              "\n",
              "           topic language                                         course_url  \\\n",
              "0  Vegan Cooking  English           /course/vegan-vegetarian-cooking-school/   \n",
              "1   Lean Startup  English  /course/the-lean-startup-debunking-myths-of-en...   \n",
              "2  Vegan Cooking  English  /course/see-my-personal-motivation-for-becomin...   \n",
              "3   Pet Training  English                /course/complete-dunbar-collection/   \n",
              "4     Web Design  English             /course/web-design-from-the-ground-up/   \n",
              "\n",
              "  instructor_name      instructor_url  \n",
              "0     Angela Poch   /user/angelapoch/  \n",
              "1       Eric Ries     /user/ericries/  \n",
              "2     Angela Poch   /user/angelapoch/  \n",
              "3      Ian Dunbar   /user/ian-dunbar/  \n",
              "4  E Learning Lab  /user/edwin-ang-2/  "
            ],
            "text/html": [
              "\n",
              "  <div id=\"df-3af46b80-eb90-41f6-8059-3a71d9d752a2\">\n",
              "    <div class=\"colab-df-container\">\n",
              "      <div>\n",
              "<style scoped>\n",
              "    .dataframe tbody tr th:only-of-type {\n",
              "        vertical-align: middle;\n",
              "    }\n",
              "\n",
              "    .dataframe tbody tr th {\n",
              "        vertical-align: top;\n",
              "    }\n",
              "\n",
              "    .dataframe thead th {\n",
              "        text-align: right;\n",
              "    }\n",
              "</style>\n",
              "<table border=\"1\" class=\"dataframe\">\n",
              "  <thead>\n",
              "    <tr style=\"text-align: right;\">\n",
              "      <th></th>\n",
              "      <th>id</th>\n",
              "      <th>title</th>\n",
              "      <th>is_paid</th>\n",
              "      <th>price</th>\n",
              "      <th>headline</th>\n",
              "      <th>num_subscribers</th>\n",
              "      <th>avg_rating</th>\n",
              "      <th>num_reviews</th>\n",
              "      <th>num_comments</th>\n",
              "      <th>num_lectures</th>\n",
              "      <th>content_length_min</th>\n",
              "      <th>published_time</th>\n",
              "      <th>last_update_date</th>\n",
              "      <th>category</th>\n",
              "      <th>subcategory</th>\n",
              "      <th>topic</th>\n",
              "      <th>language</th>\n",
              "      <th>course_url</th>\n",
              "      <th>instructor_name</th>\n",
              "      <th>instructor_url</th>\n",
              "    </tr>\n",
              "  </thead>\n",
              "  <tbody>\n",
              "    <tr>\n",
              "      <th>0</th>\n",
              "      <td>4715.0</td>\n",
              "      <td>Online Vegan Vegetarian Cooking School</td>\n",
              "      <td>True</td>\n",
              "      <td>24.99</td>\n",
              "      <td>Learn to cook delicious vegan recipes. Filmed ...</td>\n",
              "      <td>2231.0</td>\n",
              "      <td>3.75</td>\n",
              "      <td>134.0</td>\n",
              "      <td>42.0</td>\n",
              "      <td>37.0</td>\n",
              "      <td>1268.0</td>\n",
              "      <td>2010-08-05T22:06:13Z</td>\n",
              "      <td>2020-11-06</td>\n",
              "      <td>Lifestyle</td>\n",
              "      <td>Food &amp; Beverage</td>\n",
              "      <td>Vegan Cooking</td>\n",
              "      <td>English</td>\n",
              "      <td>/course/vegan-vegetarian-cooking-school/</td>\n",
              "      <td>Angela Poch</td>\n",
              "      <td>/user/angelapoch/</td>\n",
              "    </tr>\n",
              "    <tr>\n",
              "      <th>1</th>\n",
              "      <td>1769.0</td>\n",
              "      <td>The Lean Startup Talk at Stanford E-Corner</td>\n",
              "      <td>False</td>\n",
              "      <td>0.00</td>\n",
              "      <td>Debunking Myths of Entrepreneurship A startup ...</td>\n",
              "      <td>26474.0</td>\n",
              "      <td>4.50</td>\n",
              "      <td>709.0</td>\n",
              "      <td>112.0</td>\n",
              "      <td>9.0</td>\n",
              "      <td>88.0</td>\n",
              "      <td>2010-01-12T18:09:46Z</td>\n",
              "      <td>NaN</td>\n",
              "      <td>Business</td>\n",
              "      <td>Entrepreneurship</td>\n",
              "      <td>Lean Startup</td>\n",
              "      <td>English</td>\n",
              "      <td>/course/the-lean-startup-debunking-myths-of-en...</td>\n",
              "      <td>Eric Ries</td>\n",
              "      <td>/user/ericries/</td>\n",
              "    </tr>\n",
              "    <tr>\n",
              "      <th>2</th>\n",
              "      <td>5664.0</td>\n",
              "      <td>How To Become a Vegan, Vegetarian, or Flexitarian</td>\n",
              "      <td>True</td>\n",
              "      <td>19.99</td>\n",
              "      <td>Get the tools you need for a lifestyle change ...</td>\n",
              "      <td>1713.0</td>\n",
              "      <td>4.40</td>\n",
              "      <td>41.0</td>\n",
              "      <td>13.0</td>\n",
              "      <td>14.0</td>\n",
              "      <td>82.0</td>\n",
              "      <td>2010-10-13T18:07:17Z</td>\n",
              "      <td>2019-10-09</td>\n",
              "      <td>Lifestyle</td>\n",
              "      <td>Other Lifestyle</td>\n",
              "      <td>Vegan Cooking</td>\n",
              "      <td>English</td>\n",
              "      <td>/course/see-my-personal-motivation-for-becomin...</td>\n",
              "      <td>Angela Poch</td>\n",
              "      <td>/user/angelapoch/</td>\n",
              "    </tr>\n",
              "    <tr>\n",
              "      <th>3</th>\n",
              "      <td>7723.0</td>\n",
              "      <td>How to Train a Puppy</td>\n",
              "      <td>True</td>\n",
              "      <td>199.99</td>\n",
              "      <td>Train your puppy the right way with Dr. Ian Du...</td>\n",
              "      <td>4988.0</td>\n",
              "      <td>4.80</td>\n",
              "      <td>395.0</td>\n",
              "      <td>88.0</td>\n",
              "      <td>36.0</td>\n",
              "      <td>1511.0</td>\n",
              "      <td>2011-06-20T20:08:38Z</td>\n",
              "      <td>2016-01-13</td>\n",
              "      <td>Lifestyle</td>\n",
              "      <td>Pet Care &amp; Training</td>\n",
              "      <td>Pet Training</td>\n",
              "      <td>English</td>\n",
              "      <td>/course/complete-dunbar-collection/</td>\n",
              "      <td>Ian Dunbar</td>\n",
              "      <td>/user/ian-dunbar/</td>\n",
              "    </tr>\n",
              "    <tr>\n",
              "      <th>4</th>\n",
              "      <td>8157.0</td>\n",
              "      <td>Web Design from the Ground Up</td>\n",
              "      <td>True</td>\n",
              "      <td>159.99</td>\n",
              "      <td>Learn web design online: Everything you need t...</td>\n",
              "      <td>1266.0</td>\n",
              "      <td>4.75</td>\n",
              "      <td>38.0</td>\n",
              "      <td>12.0</td>\n",
              "      <td>38.0</td>\n",
              "      <td>569.0</td>\n",
              "      <td>2011-06-23T18:31:20Z</td>\n",
              "      <td>NaN</td>\n",
              "      <td>Design</td>\n",
              "      <td>Web Design</td>\n",
              "      <td>Web Design</td>\n",
              "      <td>English</td>\n",
              "      <td>/course/web-design-from-the-ground-up/</td>\n",
              "      <td>E Learning Lab</td>\n",
              "      <td>/user/edwin-ang-2/</td>\n",
              "    </tr>\n",
              "  </tbody>\n",
              "</table>\n",
              "</div>\n",
              "      <button class=\"colab-df-convert\" onclick=\"convertToInteractive('df-3af46b80-eb90-41f6-8059-3a71d9d752a2')\"\n",
              "              title=\"Convert this dataframe to an interactive table.\"\n",
              "              style=\"display:none;\">\n",
              "        \n",
              "  <svg xmlns=\"http://www.w3.org/2000/svg\" height=\"24px\"viewBox=\"0 0 24 24\"\n",
              "       width=\"24px\">\n",
              "    <path d=\"M0 0h24v24H0V0z\" fill=\"none\"/>\n",
              "    <path d=\"M18.56 5.44l.94 2.06.94-2.06 2.06-.94-2.06-.94-.94-2.06-.94 2.06-2.06.94zm-11 1L8.5 8.5l.94-2.06 2.06-.94-2.06-.94L8.5 2.5l-.94 2.06-2.06.94zm10 10l.94 2.06.94-2.06 2.06-.94-2.06-.94-.94-2.06-.94 2.06-2.06.94z\"/><path d=\"M17.41 7.96l-1.37-1.37c-.4-.4-.92-.59-1.43-.59-.52 0-1.04.2-1.43.59L10.3 9.45l-7.72 7.72c-.78.78-.78 2.05 0 2.83L4 21.41c.39.39.9.59 1.41.59.51 0 1.02-.2 1.41-.59l7.78-7.78 2.81-2.81c.8-.78.8-2.07 0-2.86zM5.41 20L4 18.59l7.72-7.72 1.47 1.35L5.41 20z\"/>\n",
              "  </svg>\n",
              "      </button>\n",
              "      \n",
              "  <style>\n",
              "    .colab-df-container {\n",
              "      display:flex;\n",
              "      flex-wrap:wrap;\n",
              "      gap: 12px;\n",
              "    }\n",
              "\n",
              "    .colab-df-convert {\n",
              "      background-color: #E8F0FE;\n",
              "      border: none;\n",
              "      border-radius: 50%;\n",
              "      cursor: pointer;\n",
              "      display: none;\n",
              "      fill: #1967D2;\n",
              "      height: 32px;\n",
              "      padding: 0 0 0 0;\n",
              "      width: 32px;\n",
              "    }\n",
              "\n",
              "    .colab-df-convert:hover {\n",
              "      background-color: #E2EBFA;\n",
              "      box-shadow: 0px 1px 2px rgba(60, 64, 67, 0.3), 0px 1px 3px 1px rgba(60, 64, 67, 0.15);\n",
              "      fill: #174EA6;\n",
              "    }\n",
              "\n",
              "    [theme=dark] .colab-df-convert {\n",
              "      background-color: #3B4455;\n",
              "      fill: #D2E3FC;\n",
              "    }\n",
              "\n",
              "    [theme=dark] .colab-df-convert:hover {\n",
              "      background-color: #434B5C;\n",
              "      box-shadow: 0px 1px 3px 1px rgba(0, 0, 0, 0.15);\n",
              "      filter: drop-shadow(0px 1px 2px rgba(0, 0, 0, 0.3));\n",
              "      fill: #FFFFFF;\n",
              "    }\n",
              "  </style>\n",
              "\n",
              "      <script>\n",
              "        const buttonEl =\n",
              "          document.querySelector('#df-3af46b80-eb90-41f6-8059-3a71d9d752a2 button.colab-df-convert');\n",
              "        buttonEl.style.display =\n",
              "          google.colab.kernel.accessAllowed ? 'block' : 'none';\n",
              "\n",
              "        async function convertToInteractive(key) {\n",
              "          const element = document.querySelector('#df-3af46b80-eb90-41f6-8059-3a71d9d752a2');\n",
              "          const dataTable =\n",
              "            await google.colab.kernel.invokeFunction('convertToInteractive',\n",
              "                                                     [key], {});\n",
              "          if (!dataTable) return;\n",
              "\n",
              "          const docLinkHtml = 'Like what you see? Visit the ' +\n",
              "            '<a target=\"_blank\" href=https://colab.research.google.com/notebooks/data_table.ipynb>data table notebook</a>'\n",
              "            + ' to learn more about interactive tables.';\n",
              "          element.innerHTML = '';\n",
              "          dataTable['output_type'] = 'display_data';\n",
              "          await google.colab.output.renderOutput(dataTable, element);\n",
              "          const docLink = document.createElement('div');\n",
              "          docLink.innerHTML = docLinkHtml;\n",
              "          element.appendChild(docLink);\n",
              "        }\n",
              "      </script>\n",
              "    </div>\n",
              "  </div>\n",
              "  "
            ]
          },
          "metadata": {},
          "execution_count": 3
        }
      ]
    },
    {
      "cell_type": "code",
      "source": [
        "print(f\"Filas: {data_udemy.shape[0]}\") #vemos cuantas filas tiene el dataset\n",
        "print(f\"Columnas: {data_udemy.shape[1]}\") #vemos cuantas columnas tiene el dataset\n"
      ],
      "metadata": {
        "id": "-iiqhIHUAWk-"
      },
      "execution_count": null,
      "outputs": []
    },
    {
      "cell_type": "code",
      "source": [
        "print(data_udemy.dtypes) #vemos que tipos de datos contiene el dataset"
      ],
      "metadata": {
        "id": "7NH_0wA2AfVR"
      },
      "execution_count": null,
      "outputs": []
    },
    {
      "cell_type": "code",
      "source": [
        "data_udemy.info() #informacion general del dataset"
      ],
      "metadata": {
        "id": "p4sEE4RgAi-k",
        "colab": {
          "base_uri": "https://localhost:8080/"
        },
        "outputId": "7d465eeb-539d-4ca5-ae75-dbfb81c0892e"
      },
      "execution_count": null,
      "outputs": [
        {
          "output_type": "stream",
          "name": "stdout",
          "text": [
            "<class 'pandas.core.frame.DataFrame'>\n",
            "RangeIndex: 187499 entries, 0 to 187498\n",
            "Data columns (total 20 columns):\n",
            " #   Column              Non-Null Count   Dtype              \n",
            "---  ------              --------------   -----              \n",
            " 0   id                  187499 non-null  float64            \n",
            " 1   title               187499 non-null  object             \n",
            " 2   is_paid             187499 non-null  bool               \n",
            " 3   price               187499 non-null  float64            \n",
            " 4   headline            187472 non-null  object             \n",
            " 5   num_subscribers     187499 non-null  float64            \n",
            " 6   avg_rating          187499 non-null  float64            \n",
            " 7   num_reviews         187499 non-null  float64            \n",
            " 8   num_comments        187499 non-null  float64            \n",
            " 9   num_lectures        187499 non-null  float64            \n",
            " 10  content_length_min  187499 non-null  float64            \n",
            " 11  published_time      187499 non-null  datetime64[ns, UTC]\n",
            " 12  last_update_date    187362 non-null  object             \n",
            " 13  category            187499 non-null  object             \n",
            " 14  subcategory         187499 non-null  object             \n",
            " 15  topic               186767 non-null  object             \n",
            " 16  language            187498 non-null  object             \n",
            " 17  course_url          187498 non-null  object             \n",
            " 18  instructor_name     187493 non-null  object             \n",
            " 19  instructor_url      187085 non-null  object             \n",
            "dtypes: bool(1), datetime64[ns, UTC](1), float64(8), object(10)\n",
            "memory usage: 27.4+ MB\n"
          ]
        }
      ]
    },
    {
      "cell_type": "code",
      "source": [
        "data_udemy.isna().sum().sort_values(ascending = False) #veo la cantidad de datos nulos."
      ],
      "metadata": {
        "id": "4E98f-0fAr4j",
        "colab": {
          "base_uri": "https://localhost:8080/"
        },
        "outputId": "e4e4650a-577f-4f19-f743-9021e33b2211"
      },
      "execution_count": null,
      "outputs": [
        {
          "output_type": "execute_result",
          "data": {
            "text/plain": [
              "price_category          19497\n",
              "topic                     732\n",
              "instructor_url            414\n",
              "last_update_date          137\n",
              "headline                   27\n",
              "instructor_name             6\n",
              "language                    1\n",
              "course_url                  1\n",
              "num_comments                0\n",
              "num_lectures                0\n",
              "Teaching & Academics        0\n",
              "Photography & Video         0\n",
              "Personal Development        0\n",
              "Office Productivity         0\n",
              "Music                       0\n",
              "Marketing                   0\n",
              "Lifestyle                   0\n",
              "IT & Software               0\n",
              "Health & Fitness            0\n",
              "Finance & Accounting        0\n",
              "Development                 0\n",
              "Design                      0\n",
              "Business                    0\n",
              "is_paid                     0\n",
              "price                       0\n",
              "title                       0\n",
              "num_subscribers             0\n",
              "avg_rating                  0\n",
              "subcategory                 0\n",
              "category                    0\n",
              "num_reviews                 0\n",
              "published_time              0\n",
              "content_length_min          0\n",
              "id                          0\n",
              "dtype: int64"
            ]
          },
          "metadata": {},
          "execution_count": 15
        }
      ]
    },
    {
      "cell_type": "code",
      "source": [
        "data_udemy.drop(columns = ['last_update_date', 'instructor_url', 'topic'], inplace = True)\n",
        "data_udemy #elimino las siguientes columnas ya que contienen muchos valores nulos y no van a ser de relevancia para los objetivos de mi analisis."
      ],
      "metadata": {
        "id": "8KmBaP_7A8oZ",
        "colab": {
          "base_uri": "https://localhost:8080/",
          "height": 1000
        },
        "outputId": "36426fe9-0ee8-4981-ecc0-a5f6ad4f457a"
      },
      "execution_count": null,
      "outputs": [
        {
          "output_type": "execute_result",
          "data": {
            "text/plain": [
              "               id                                              title  is_paid  \\\n",
              "0          4715.0             Online Vegan Vegetarian Cooking School     True   \n",
              "1          1769.0         The Lean Startup Talk at Stanford E-Corner    False   \n",
              "2          5664.0  How To Become a Vegan, Vegetarian, or Flexitarian     True   \n",
              "3          7723.0                               How to Train a Puppy     True   \n",
              "4          8157.0                      Web Design from the Ground Up     True   \n",
              "...           ...                                                ...      ...   \n",
              "187494  4591542.0  Trading Vintage Fashion for Business and Pleasure     True   \n",
              "187495  4591626.0                       Working with Guardian Angels     True   \n",
              "187496  4591552.0  Used to -Clothes-Writing-Reading tüyoları ile ...    False   \n",
              "187497  4591616.0              Critical Thinking and Problem Solving     True   \n",
              "187498  4591146.0  Level 0 - Introduction to Intelligent Automati...    False   \n",
              "\n",
              "           price                                           headline  \\\n",
              "0       0.024990  Learn to cook delicious vegan recipes. Filmed ...   \n",
              "1       0.000000  Debunking Myths of Entrepreneurship A startup ...   \n",
              "2       0.019990  Get the tools you need for a lifestyle change ...   \n",
              "3       0.199992  Train your puppy the right way with Dr. Ian Du...   \n",
              "4       0.159992  Learn web design online: Everything you need t...   \n",
              "...          ...                                                ...   \n",
              "187494  0.049990  A beginners guide to collecting and selling vi...   \n",
              "187495  0.029990  This Course Will Help You Build Awareness of W...   \n",
              "187496  0.000000  Bu kursta üst taraftada belirtildiği üzere kon...   \n",
              "187497  0.019990  Basic understanding and application of Critica...   \n",
              "187498  0.000000  Learn essential tips and insight about RPA, Pr...   \n",
              "\n",
              "        num_subscribers  avg_rating  num_reviews  num_comments  num_lectures  \\\n",
              "0              0.001273    3.750000     0.000307      0.001076      0.033790   \n",
              "1              0.015108    4.500000     0.001624      0.002869      0.008219   \n",
              "2              0.000978    4.400000     0.000094      0.000333      0.012785   \n",
              "3              0.002846    4.800000     0.000905      0.002254      0.032877   \n",
              "4              0.000722    4.750000     0.000087      0.000307      0.034703   \n",
              "...                 ...         ...          ...           ...           ...   \n",
              "187494         0.000039    4.850000     0.000039      0.000359      0.026484   \n",
              "187495         0.000002    0.000000     0.000000      0.000000      0.004566   \n",
              "187496         0.000605    4.600000     0.000027      0.000051      0.004566   \n",
              "187497         0.000352    4.550000     0.000025      0.000000      0.006393   \n",
              "187498         0.000721    4.388889     0.000021      0.000000      0.007306   \n",
              "\n",
              "        ...  Health & Fitness IT & Software Lifestyle Marketing Music  \\\n",
              "0       ...                 0             0         1         0     0   \n",
              "1       ...                 0             0         0         0     0   \n",
              "2       ...                 0             0         1         0     0   \n",
              "3       ...                 0             0         1         0     0   \n",
              "4       ...                 0             0         0         0     0   \n",
              "...     ...               ...           ...       ...       ...   ...   \n",
              "187494  ...                 0             0         0         0     0   \n",
              "187495  ...                 0             0         0         0     0   \n",
              "187496  ...                 0             0         0         0     0   \n",
              "187497  ...                 0             0         0         0     0   \n",
              "187498  ...                 0             1         0         0     0   \n",
              "\n",
              "       Office Productivity Personal Development  Photography & Video  \\\n",
              "0                        0                    0                    0   \n",
              "1                        0                    0                    0   \n",
              "2                        0                    0                    0   \n",
              "3                        0                    0                    0   \n",
              "4                        0                    0                    0   \n",
              "...                    ...                  ...                  ...   \n",
              "187494                   0                    0                    0   \n",
              "187495                   0                    1                    0   \n",
              "187496                   0                    0                    0   \n",
              "187497                   0                    1                    0   \n",
              "187498                   0                    0                    0   \n",
              "\n",
              "        Teaching & Academics  price_category  \n",
              "0                          0             Low  \n",
              "1                          0             NaN  \n",
              "2                          0             Low  \n",
              "3                          0             Low  \n",
              "4                          0             Low  \n",
              "...                      ...             ...  \n",
              "187494                     0             Low  \n",
              "187495                     0             Low  \n",
              "187496                     1             NaN  \n",
              "187497                     0             Low  \n",
              "187498                     0             NaN  \n",
              "\n",
              "[187499 rows x 31 columns]"
            ],
            "text/html": [
              "\n",
              "  <div id=\"df-b46e19f7-e0dd-4b5e-942c-f59438fb44a4\">\n",
              "    <div class=\"colab-df-container\">\n",
              "      <div>\n",
              "<style scoped>\n",
              "    .dataframe tbody tr th:only-of-type {\n",
              "        vertical-align: middle;\n",
              "    }\n",
              "\n",
              "    .dataframe tbody tr th {\n",
              "        vertical-align: top;\n",
              "    }\n",
              "\n",
              "    .dataframe thead th {\n",
              "        text-align: right;\n",
              "    }\n",
              "</style>\n",
              "<table border=\"1\" class=\"dataframe\">\n",
              "  <thead>\n",
              "    <tr style=\"text-align: right;\">\n",
              "      <th></th>\n",
              "      <th>id</th>\n",
              "      <th>title</th>\n",
              "      <th>is_paid</th>\n",
              "      <th>price</th>\n",
              "      <th>headline</th>\n",
              "      <th>num_subscribers</th>\n",
              "      <th>avg_rating</th>\n",
              "      <th>num_reviews</th>\n",
              "      <th>num_comments</th>\n",
              "      <th>num_lectures</th>\n",
              "      <th>...</th>\n",
              "      <th>Health &amp; Fitness</th>\n",
              "      <th>IT &amp; Software</th>\n",
              "      <th>Lifestyle</th>\n",
              "      <th>Marketing</th>\n",
              "      <th>Music</th>\n",
              "      <th>Office Productivity</th>\n",
              "      <th>Personal Development</th>\n",
              "      <th>Photography &amp; Video</th>\n",
              "      <th>Teaching &amp; Academics</th>\n",
              "      <th>price_category</th>\n",
              "    </tr>\n",
              "  </thead>\n",
              "  <tbody>\n",
              "    <tr>\n",
              "      <th>0</th>\n",
              "      <td>4715.0</td>\n",
              "      <td>Online Vegan Vegetarian Cooking School</td>\n",
              "      <td>True</td>\n",
              "      <td>0.024990</td>\n",
              "      <td>Learn to cook delicious vegan recipes. Filmed ...</td>\n",
              "      <td>0.001273</td>\n",
              "      <td>3.750000</td>\n",
              "      <td>0.000307</td>\n",
              "      <td>0.001076</td>\n",
              "      <td>0.033790</td>\n",
              "      <td>...</td>\n",
              "      <td>0</td>\n",
              "      <td>0</td>\n",
              "      <td>1</td>\n",
              "      <td>0</td>\n",
              "      <td>0</td>\n",
              "      <td>0</td>\n",
              "      <td>0</td>\n",
              "      <td>0</td>\n",
              "      <td>0</td>\n",
              "      <td>Low</td>\n",
              "    </tr>\n",
              "    <tr>\n",
              "      <th>1</th>\n",
              "      <td>1769.0</td>\n",
              "      <td>The Lean Startup Talk at Stanford E-Corner</td>\n",
              "      <td>False</td>\n",
              "      <td>0.000000</td>\n",
              "      <td>Debunking Myths of Entrepreneurship A startup ...</td>\n",
              "      <td>0.015108</td>\n",
              "      <td>4.500000</td>\n",
              "      <td>0.001624</td>\n",
              "      <td>0.002869</td>\n",
              "      <td>0.008219</td>\n",
              "      <td>...</td>\n",
              "      <td>0</td>\n",
              "      <td>0</td>\n",
              "      <td>0</td>\n",
              "      <td>0</td>\n",
              "      <td>0</td>\n",
              "      <td>0</td>\n",
              "      <td>0</td>\n",
              "      <td>0</td>\n",
              "      <td>0</td>\n",
              "      <td>NaN</td>\n",
              "    </tr>\n",
              "    <tr>\n",
              "      <th>2</th>\n",
              "      <td>5664.0</td>\n",
              "      <td>How To Become a Vegan, Vegetarian, or Flexitarian</td>\n",
              "      <td>True</td>\n",
              "      <td>0.019990</td>\n",
              "      <td>Get the tools you need for a lifestyle change ...</td>\n",
              "      <td>0.000978</td>\n",
              "      <td>4.400000</td>\n",
              "      <td>0.000094</td>\n",
              "      <td>0.000333</td>\n",
              "      <td>0.012785</td>\n",
              "      <td>...</td>\n",
              "      <td>0</td>\n",
              "      <td>0</td>\n",
              "      <td>1</td>\n",
              "      <td>0</td>\n",
              "      <td>0</td>\n",
              "      <td>0</td>\n",
              "      <td>0</td>\n",
              "      <td>0</td>\n",
              "      <td>0</td>\n",
              "      <td>Low</td>\n",
              "    </tr>\n",
              "    <tr>\n",
              "      <th>3</th>\n",
              "      <td>7723.0</td>\n",
              "      <td>How to Train a Puppy</td>\n",
              "      <td>True</td>\n",
              "      <td>0.199992</td>\n",
              "      <td>Train your puppy the right way with Dr. Ian Du...</td>\n",
              "      <td>0.002846</td>\n",
              "      <td>4.800000</td>\n",
              "      <td>0.000905</td>\n",
              "      <td>0.002254</td>\n",
              "      <td>0.032877</td>\n",
              "      <td>...</td>\n",
              "      <td>0</td>\n",
              "      <td>0</td>\n",
              "      <td>1</td>\n",
              "      <td>0</td>\n",
              "      <td>0</td>\n",
              "      <td>0</td>\n",
              "      <td>0</td>\n",
              "      <td>0</td>\n",
              "      <td>0</td>\n",
              "      <td>Low</td>\n",
              "    </tr>\n",
              "    <tr>\n",
              "      <th>4</th>\n",
              "      <td>8157.0</td>\n",
              "      <td>Web Design from the Ground Up</td>\n",
              "      <td>True</td>\n",
              "      <td>0.159992</td>\n",
              "      <td>Learn web design online: Everything you need t...</td>\n",
              "      <td>0.000722</td>\n",
              "      <td>4.750000</td>\n",
              "      <td>0.000087</td>\n",
              "      <td>0.000307</td>\n",
              "      <td>0.034703</td>\n",
              "      <td>...</td>\n",
              "      <td>0</td>\n",
              "      <td>0</td>\n",
              "      <td>0</td>\n",
              "      <td>0</td>\n",
              "      <td>0</td>\n",
              "      <td>0</td>\n",
              "      <td>0</td>\n",
              "      <td>0</td>\n",
              "      <td>0</td>\n",
              "      <td>Low</td>\n",
              "    </tr>\n",
              "    <tr>\n",
              "      <th>...</th>\n",
              "      <td>...</td>\n",
              "      <td>...</td>\n",
              "      <td>...</td>\n",
              "      <td>...</td>\n",
              "      <td>...</td>\n",
              "      <td>...</td>\n",
              "      <td>...</td>\n",
              "      <td>...</td>\n",
              "      <td>...</td>\n",
              "      <td>...</td>\n",
              "      <td>...</td>\n",
              "      <td>...</td>\n",
              "      <td>...</td>\n",
              "      <td>...</td>\n",
              "      <td>...</td>\n",
              "      <td>...</td>\n",
              "      <td>...</td>\n",
              "      <td>...</td>\n",
              "      <td>...</td>\n",
              "      <td>...</td>\n",
              "      <td>...</td>\n",
              "    </tr>\n",
              "    <tr>\n",
              "      <th>187494</th>\n",
              "      <td>4591542.0</td>\n",
              "      <td>Trading Vintage Fashion for Business and Pleasure</td>\n",
              "      <td>True</td>\n",
              "      <td>0.049990</td>\n",
              "      <td>A beginners guide to collecting and selling vi...</td>\n",
              "      <td>0.000039</td>\n",
              "      <td>4.850000</td>\n",
              "      <td>0.000039</td>\n",
              "      <td>0.000359</td>\n",
              "      <td>0.026484</td>\n",
              "      <td>...</td>\n",
              "      <td>0</td>\n",
              "      <td>0</td>\n",
              "      <td>0</td>\n",
              "      <td>0</td>\n",
              "      <td>0</td>\n",
              "      <td>0</td>\n",
              "      <td>0</td>\n",
              "      <td>0</td>\n",
              "      <td>0</td>\n",
              "      <td>Low</td>\n",
              "    </tr>\n",
              "    <tr>\n",
              "      <th>187495</th>\n",
              "      <td>4591626.0</td>\n",
              "      <td>Working with Guardian Angels</td>\n",
              "      <td>True</td>\n",
              "      <td>0.029990</td>\n",
              "      <td>This Course Will Help You Build Awareness of W...</td>\n",
              "      <td>0.000002</td>\n",
              "      <td>0.000000</td>\n",
              "      <td>0.000000</td>\n",
              "      <td>0.000000</td>\n",
              "      <td>0.004566</td>\n",
              "      <td>...</td>\n",
              "      <td>0</td>\n",
              "      <td>0</td>\n",
              "      <td>0</td>\n",
              "      <td>0</td>\n",
              "      <td>0</td>\n",
              "      <td>0</td>\n",
              "      <td>1</td>\n",
              "      <td>0</td>\n",
              "      <td>0</td>\n",
              "      <td>Low</td>\n",
              "    </tr>\n",
              "    <tr>\n",
              "      <th>187496</th>\n",
              "      <td>4591552.0</td>\n",
              "      <td>Used to -Clothes-Writing-Reading tüyoları ile ...</td>\n",
              "      <td>False</td>\n",
              "      <td>0.000000</td>\n",
              "      <td>Bu kursta üst taraftada belirtildiği üzere kon...</td>\n",
              "      <td>0.000605</td>\n",
              "      <td>4.600000</td>\n",
              "      <td>0.000027</td>\n",
              "      <td>0.000051</td>\n",
              "      <td>0.004566</td>\n",
              "      <td>...</td>\n",
              "      <td>0</td>\n",
              "      <td>0</td>\n",
              "      <td>0</td>\n",
              "      <td>0</td>\n",
              "      <td>0</td>\n",
              "      <td>0</td>\n",
              "      <td>0</td>\n",
              "      <td>0</td>\n",
              "      <td>1</td>\n",
              "      <td>NaN</td>\n",
              "    </tr>\n",
              "    <tr>\n",
              "      <th>187497</th>\n",
              "      <td>4591616.0</td>\n",
              "      <td>Critical Thinking and Problem Solving</td>\n",
              "      <td>True</td>\n",
              "      <td>0.019990</td>\n",
              "      <td>Basic understanding and application of Critica...</td>\n",
              "      <td>0.000352</td>\n",
              "      <td>4.550000</td>\n",
              "      <td>0.000025</td>\n",
              "      <td>0.000000</td>\n",
              "      <td>0.006393</td>\n",
              "      <td>...</td>\n",
              "      <td>0</td>\n",
              "      <td>0</td>\n",
              "      <td>0</td>\n",
              "      <td>0</td>\n",
              "      <td>0</td>\n",
              "      <td>0</td>\n",
              "      <td>1</td>\n",
              "      <td>0</td>\n",
              "      <td>0</td>\n",
              "      <td>Low</td>\n",
              "    </tr>\n",
              "    <tr>\n",
              "      <th>187498</th>\n",
              "      <td>4591146.0</td>\n",
              "      <td>Level 0 - Introduction to Intelligent Automati...</td>\n",
              "      <td>False</td>\n",
              "      <td>0.000000</td>\n",
              "      <td>Learn essential tips and insight about RPA, Pr...</td>\n",
              "      <td>0.000721</td>\n",
              "      <td>4.388889</td>\n",
              "      <td>0.000021</td>\n",
              "      <td>0.000000</td>\n",
              "      <td>0.007306</td>\n",
              "      <td>...</td>\n",
              "      <td>0</td>\n",
              "      <td>1</td>\n",
              "      <td>0</td>\n",
              "      <td>0</td>\n",
              "      <td>0</td>\n",
              "      <td>0</td>\n",
              "      <td>0</td>\n",
              "      <td>0</td>\n",
              "      <td>0</td>\n",
              "      <td>NaN</td>\n",
              "    </tr>\n",
              "  </tbody>\n",
              "</table>\n",
              "<p>187499 rows × 31 columns</p>\n",
              "</div>\n",
              "      <button class=\"colab-df-convert\" onclick=\"convertToInteractive('df-b46e19f7-e0dd-4b5e-942c-f59438fb44a4')\"\n",
              "              title=\"Convert this dataframe to an interactive table.\"\n",
              "              style=\"display:none;\">\n",
              "        \n",
              "  <svg xmlns=\"http://www.w3.org/2000/svg\" height=\"24px\"viewBox=\"0 0 24 24\"\n",
              "       width=\"24px\">\n",
              "    <path d=\"M0 0h24v24H0V0z\" fill=\"none\"/>\n",
              "    <path d=\"M18.56 5.44l.94 2.06.94-2.06 2.06-.94-2.06-.94-.94-2.06-.94 2.06-2.06.94zm-11 1L8.5 8.5l.94-2.06 2.06-.94-2.06-.94L8.5 2.5l-.94 2.06-2.06.94zm10 10l.94 2.06.94-2.06 2.06-.94-2.06-.94-.94-2.06-.94 2.06-2.06.94z\"/><path d=\"M17.41 7.96l-1.37-1.37c-.4-.4-.92-.59-1.43-.59-.52 0-1.04.2-1.43.59L10.3 9.45l-7.72 7.72c-.78.78-.78 2.05 0 2.83L4 21.41c.39.39.9.59 1.41.59.51 0 1.02-.2 1.41-.59l7.78-7.78 2.81-2.81c.8-.78.8-2.07 0-2.86zM5.41 20L4 18.59l7.72-7.72 1.47 1.35L5.41 20z\"/>\n",
              "  </svg>\n",
              "      </button>\n",
              "      \n",
              "  <style>\n",
              "    .colab-df-container {\n",
              "      display:flex;\n",
              "      flex-wrap:wrap;\n",
              "      gap: 12px;\n",
              "    }\n",
              "\n",
              "    .colab-df-convert {\n",
              "      background-color: #E8F0FE;\n",
              "      border: none;\n",
              "      border-radius: 50%;\n",
              "      cursor: pointer;\n",
              "      display: none;\n",
              "      fill: #1967D2;\n",
              "      height: 32px;\n",
              "      padding: 0 0 0 0;\n",
              "      width: 32px;\n",
              "    }\n",
              "\n",
              "    .colab-df-convert:hover {\n",
              "      background-color: #E2EBFA;\n",
              "      box-shadow: 0px 1px 2px rgba(60, 64, 67, 0.3), 0px 1px 3px 1px rgba(60, 64, 67, 0.15);\n",
              "      fill: #174EA6;\n",
              "    }\n",
              "\n",
              "    [theme=dark] .colab-df-convert {\n",
              "      background-color: #3B4455;\n",
              "      fill: #D2E3FC;\n",
              "    }\n",
              "\n",
              "    [theme=dark] .colab-df-convert:hover {\n",
              "      background-color: #434B5C;\n",
              "      box-shadow: 0px 1px 3px 1px rgba(0, 0, 0, 0.15);\n",
              "      filter: drop-shadow(0px 1px 2px rgba(0, 0, 0, 0.3));\n",
              "      fill: #FFFFFF;\n",
              "    }\n",
              "  </style>\n",
              "\n",
              "      <script>\n",
              "        const buttonEl =\n",
              "          document.querySelector('#df-b46e19f7-e0dd-4b5e-942c-f59438fb44a4 button.colab-df-convert');\n",
              "        buttonEl.style.display =\n",
              "          google.colab.kernel.accessAllowed ? 'block' : 'none';\n",
              "\n",
              "        async function convertToInteractive(key) {\n",
              "          const element = document.querySelector('#df-b46e19f7-e0dd-4b5e-942c-f59438fb44a4');\n",
              "          const dataTable =\n",
              "            await google.colab.kernel.invokeFunction('convertToInteractive',\n",
              "                                                     [key], {});\n",
              "          if (!dataTable) return;\n",
              "\n",
              "          const docLinkHtml = 'Like what you see? Visit the ' +\n",
              "            '<a target=\"_blank\" href=https://colab.research.google.com/notebooks/data_table.ipynb>data table notebook</a>'\n",
              "            + ' to learn more about interactive tables.';\n",
              "          element.innerHTML = '';\n",
              "          dataTable['output_type'] = 'display_data';\n",
              "          await google.colab.output.renderOutput(dataTable, element);\n",
              "          const docLink = document.createElement('div');\n",
              "          docLink.innerHTML = docLinkHtml;\n",
              "          element.appendChild(docLink);\n",
              "        }\n",
              "      </script>\n",
              "    </div>\n",
              "  </div>\n",
              "  "
            ]
          },
          "metadata": {},
          "execution_count": 16
        }
      ]
    },
    {
      "cell_type": "code",
      "source": [
        "print(data_udemy.sort_values('num_subscribers', ascending=False).head(10)) #los 10 cursos mas populares segun numero de inscritos"
      ],
      "metadata": {
        "id": "CYGYE-xCBkmQ"
      },
      "execution_count": null,
      "outputs": []
    },
    {
      "cell_type": "code",
      "source": [
        "plt.hist(data_udemy['avg_rating'], bins=20) #promedo de calificaciones de los cursos de la plataforma Udemy\n",
        "plt.show()"
      ],
      "metadata": {
        "id": "0WbpNoCjEZB0"
      },
      "execution_count": null,
      "outputs": []
    },
    {
      "cell_type": "code",
      "source": [
        "plt.hist(data_udemy['price'], bins=20) #distribucion de precios de los cursos\n",
        "plt.show()"
      ],
      "metadata": {
        "id": "Bzy8fwpsE5pT"
      },
      "execution_count": null,
      "outputs": []
    },
    {
      "cell_type": "markdown",
      "source": [
        "# ***Data Wrangling***#"
      ],
      "metadata": {
        "id": "DevwkbSNP7_9"
      }
    },
    {
      "cell_type": "code",
      "source": [
        "#Normalizacion de los datos\n",
        "\n",
        "from sklearn.preprocessing import MinMaxScaler\n",
        "scaler = MinMaxScaler()\n",
        "data_udemy[['price', 'num_subscribers', 'num_reviews', 'num_comments', 'num_lectures', 'content_length_min']] = scaler.fit_transform(data_udemy[['price', 'num_subscribers', 'num_reviews', 'num_comments', 'num_lectures', 'content_length_min']])"
      ],
      "metadata": {
        "id": "XkzcpycIQ6Sz"
      },
      "execution_count": null,
      "outputs": []
    },
    {
      "cell_type": "code",
      "source": [
        "#Codificacion One-Hot de la variable 'category'\n",
        "\n",
        "category_dummies = pd.get_dummies(data_udemy['category'])\n",
        "data_udemy = pd.concat([data_udemy, category_dummies], axis=1)"
      ],
      "metadata": {
        "id": "ImSByv_3TH8E"
      },
      "execution_count": null,
      "outputs": []
    },
    {
      "cell_type": "code",
      "source": [
        "#Binning de la variable 'price'\n",
        "\n",
        "bins = [-np.inf, 20, 50, 100, np.inf]  # Ajusta los límites para incluir 0\n",
        "labels = ['Free/Low', 'Medium', 'High', 'Very High']\n",
        "data_udemy['price_category'] = pd.cut(data_udemy['price'], bins=bins, labels=labels)\n",
        "\n",
        "#Verifico si hay datos faltantes\n",
        "\n",
        "print(data_udemy['price_category'].isna().sum())"
      ],
      "metadata": {
        "id": "HrIKJI1xTqFL"
      },
      "execution_count": null,
      "outputs": []
    },
    {
      "cell_type": "code",
      "source": [
        "#Verifico nuevamente los datos faltantes en el dataset\n",
        "\n",
        "print(data_udemy.isna().sum().sort_values(ascending = False))"
      ],
      "metadata": {
        "id": "PkWUUTOIWOHN"
      },
      "execution_count": null,
      "outputs": []
    },
    {
      "cell_type": "code",
      "source": [
        "#Elimino los registros de las variables 'headline' y 'instructor_name' ya que no son relevantes en mi analisis en particular\n",
        "\n",
        "data_udemy = data_udemy.dropna(subset=['headline', 'instructor_name'])"
      ],
      "metadata": {
        "id": "kebnDPZYXWfX"
      },
      "execution_count": null,
      "outputs": []
    },
    {
      "cell_type": "code",
      "source": [
        "#Reemplazo el registro faltante de la variable 'language' con English, ya que es el idioma predominante en los cursos (segun el analisis realizado en la seccion de popularidad segun idioma y categoria)\n",
        "\n",
        "data_udemy['language'].fillna('English', inplace=True)"
      ],
      "metadata": {
        "id": "NuXb5nk2XtSE"
      },
      "execution_count": null,
      "outputs": []
    },
    {
      "cell_type": "markdown",
      "source": [
        "# ¿Cómo se relaciona el precio de los cursos con el número de estudiantes inscritos?"
      ],
      "metadata": {
        "id": "jexKxLtMYDCw"
      }
    },
    {
      "cell_type": "code",
      "source": [
        "inscritos_x_precio = data_udemy.groupby('price')['num_subscribers'].sum()\n",
        "inscritos_x_precio = inscritos_x_precio[inscritos_x_precio.index > 0]"
      ],
      "metadata": {
        "id": "9bTndIbxYHaZ"
      },
      "execution_count": null,
      "outputs": []
    },
    {
      "cell_type": "code",
      "source": [
        "plt.figure(figsize=(8,6))\n",
        "plt.plot(inscritos_x_precio.index, inscritos_x_precio.values)\n",
        "plt.title('Relación entre el precio y el número de estudiantes inscritos')\n",
        "plt.xlabel('Precio')\n",
        "plt.ylabel('Número de estudiantes inscritos')\n",
        "plt.show()"
      ],
      "metadata": {
        "colab": {
          "base_uri": "https://localhost:8080/"
        },
        "id": "rhjwEvHVYOzK",
        "outputId": "8a738dd3-6373-4ab7-d44d-97c5af5a6d20"
      },
      "execution_count": null,
      "outputs": [
        {
          "output_type": "display_data",
          "data": {
            "text/plain": [
              "<Figure size 800x600 with 1 Axes>"
            ],
            "image/png": "[encoded data removed]"
          },
          "metadata": {}
        }
      ]
    },
    {
      "cell_type": "markdown",
      "source": [
        "En este caso, observamos que generalmente, el mayor número de inscritos se encuentra en el rango de precios de hasta 200 dólares. Pero particularmente vemos un incremento de inscritos frente a cursos que cuestan entre 200 dólares apróximadamente. Y, habiendo una drástica disminución de inscritos en cursos que cuestan más de 200 dólares, estos datos pueden ser de suma relevancia a la hora de analizar que cursos tienen mayor rentabilidad, y cuál es la sensibilidad de los estudiantes en relación al precio de los cursos. Permitiéndoles a los proveedores de cursos, ajustar sus precios a la demanda actual."
      ],
      "metadata": {
        "id": "ERgzhI4rYS0n"
      }
    },
    {
      "cell_type": "code",
      "source": [
        "price = data_udemy[\"price\"]\n",
        "num_subscribers = data_udemy[\"num_subscribers\"]\n",
        "\n",
        "plt.scatter(price, num_subscribers, alpha=0.5)\n",
        "plt.title(\"Relación entre precio y cantidad de inscritos\")\n",
        "plt.xlabel(\"Precio\")\n",
        "plt.ylabel(\"Cantidad de inscritos\")\n",
        "plt.show()"
      ],
      "metadata": {
        "colab": {
          "base_uri": "https://localhost:8080/"
        },
        "id": "j0DyyI_jbiny",
        "outputId": "e57c0456-20e2-4800-fe03-53f6f0af78e8"
      },
      "execution_count": null,
      "outputs": [
        {
          "output_type": "display_data",
          "data": {
            "text/plain": [
              "<Figure size 640x480 with 1 Axes>"
            ],
            "image/png": "[encoded data removed]"
          },
          "metadata": {}
        }
      ]
    },
    {
      "cell_type": "markdown",
      "source": [
        "A partir del scatter plot, se puede inferir que no existe una relación lineal fuerte entre el precio y la cantidad de inscritos en los cursos. Ya que, se puede observar que hay cursos con un precio alto pero con una cantidad baja de inscritos y viceversa. Sin embargo, se puede observar una tendencia general de que los cursos más populares (aquellos con mayor cantidad de inscritos) tienden a estar en el rango de precios más bajos, mientras que los cursos menos populares suelen tener precios más altos."
      ],
      "metadata": {
        "id": "2y7jf4AacAlr"
      }
    },
    {
      "cell_type": "markdown",
      "source": [
        "Basadonos en el análisis de los precios de los cursos, se pueden hacer las siguientes recomendaciones, como el ofrecer una mayor variedad de precios, los cursos de precios bajos y medianos son los más populares, por lo que se recomienda ofrecer una variedad de precios para satisfacer las necesidades y presupuestos de los estudiantes. Así como, ofrecer promociones y descuentos. Ya que los cursos con precios elevados tienen menos inscritos, por lo que se pueden ofrecer promociones y descuentos para incentivar a los estudiantes a inscribirse en estos cursos."
      ],
      "metadata": {
        "id": "oW9KgXabcyaN"
      }
    },
    {
      "cell_type": "markdown",
      "source": [
        "# ¿Cómo varía la popularidad de los cursos en función de su idioma y su categoría temática en Udemy?"
      ],
      "metadata": {
        "id": "j66OcHa_dZHR"
      }
    },
    {
      "cell_type": "code",
      "source": [
        "popularidad_segun_idioma_y_categoria = data_udemy.groupby(['language', 'category'])['num_subscribers'].sum()\n",
        "\n",
        "popularidad_segun_idioma_y_categoria = pd.DataFrame(popularidad_segun_idioma_y_categoria).reset_index()\n",
        "\n",
        "popularidad_segun_idioma_y_categoria = popularidad_segun_idioma_y_categoria.sort_values('num_subscribers', ascending=False)"
      ],
      "metadata": {
        "id": "SIyGsy2zdnud"
      },
      "execution_count": null,
      "outputs": []
    },
    {
      "cell_type": "code",
      "source": [
        "idiomas_populares = popularidad_segun_idioma_y_categoria['language'].unique()[:10]\n",
        "\n",
        "popularidad_segun_idioma_y_categoria = popularidad_segun_idioma_y_categoria[popularidad_segun_idioma_y_categoria['language'].isin(idiomas_populares)]\n",
        "\n",
        "categorias_populares = popularidad_segun_idioma_y_categoria['category'].unique()[:10]\n",
        "\n",
        "popularidad_por_idioma_categoria = popularidad_segun_idioma_y_categoria[popularidad_segun_idioma_y_categoria['category'].isin(categorias_populares)]"
      ],
      "metadata": {
        "id": "LxCIZVK_drGu"
      },
      "execution_count": null,
      "outputs": []
    },
    {
      "cell_type": "code",
      "source": [
        "plt.figure(figsize=(16,8))\n",
        "sns.barplot(x='category', y='num_subscribers', hue='language', data=popularidad_por_idioma_categoria)\n",
        "plt.title('Popularidad de los cursos según su idioma y su categoría temática')\n",
        "plt.xlabel('Categoría temática')\n",
        "plt.ylabel('Número de estudiantes inscritos')\n",
        "plt.legend()\n",
        "plt.show()"
      ],
      "metadata": {
        "colab": {
          "base_uri": "https://localhost:8080/"
        },
        "id": "5UsGKJXndwfO",
        "outputId": "da715bd1-4556-4327-c9aa-ffbf371127d0"
      },
      "execution_count": null,
      "outputs": [
        {
          "output_type": "display_data",
          "data": {
            "text/plain": [
              "<Figure size 1600x800 with 1 Axes>"
            ],
            "image/png": "[encoded data removed]"
          },
          "metadata": {}
        }
      ]
    },
    {
      "cell_type": "markdown",
      "source": [
        "Por lo tanto, mediante la visualización, podemos inferir que en la categoría con mayor popularidad; Development, el idioma que predomina es el inglés, seguido luego por el portugués y el español. En las siguientes categorías podemos observar que, entre el idioma inglés, y los demás 9 idiomas más populares, hay una diferencia muy significativa, siendo el inglés el idioma que predomina por excelencia en dichos cursos."
      ],
      "metadata": {
        "id": "9ckW9ehhdz0c"
      }
    },
    {
      "cell_type": "code",
      "source": [
        "categorias = ['Development', 'Business', 'IT & Software']\n",
        "data_filtrada = data_udemy[data_udemy['category'].isin(categorias)]\n",
        "\n",
        "idiomas = ['English', 'Portuguese', 'Spanish']\n",
        "data_filtrada = data_filtrada[data_filtrada['language'].isin(idiomas)]\n",
        "\n",
        "\n",
        "sns.barplot(x='category', y='num_subscribers', hue='language', data=data_filtrada)\n",
        "plt.title('Popularidad de cursos por categoría y idioma')\n",
        "plt.xlabel('Categoría')\n",
        "plt.ylabel('Número de inscritos')\n",
        "plt.show()"
      ],
      "metadata": {
        "colab": {
          "base_uri": "https://localhost:8080/"
        },
        "id": "Bud34gedh6gd",
        "outputId": "81368968-7570-4830-e7d9-81da84c2c162"
      },
      "execution_count": null,
      "outputs": [
        {
          "output_type": "display_data",
          "data": {
            "text/plain": [
              "<Figure size 640x480 with 1 Axes>"
            ],
            "image/png": "[encoded data removed]"
          },
          "metadata": {}
        }
      ]
    },
    {
      "cell_type": "markdown",
      "source": [
        "Algunas posibles recomendaciones serian ofrecer más cursos en inglés en las categorías de Development e IT & Software, ya que son las categorías con mayor popularidad y el inglés es el idioma más utilizado en ellas.\n",
        "Diversificar los cursos en español y portugués en la categoría de Development, ya que son los idiomas más populares en esta categoría, y ofrecer más cursos en estos idiomas en las categorías de Business e IT & Software.\n",
        "Asi como, realizar campañas de marketing específicas para los idiomas menos populares en cada categoría, con el objetivo de aumentar la popularidad de los cursos en esos idiomas."
      ],
      "metadata": {
        "id": "Yiyr-Az7mN3-"
      }
    },
    {
      "cell_type": "markdown",
      "source": [
        "# **Regresion lineal**\n",
        "\n",
        "Para este proyecto, decidí utilizar el método de feature selection basado en modelos para reducir la dimensionalidad de mi dataset de Udemy y poder enfocarme en las variables más relevantes para mi objetivo. Posteriormente, utilicé una regresión lineal para predecir la cantidad de suscriptores de un curso en función del precio y la categoría a la que pertenece. La variable dependiente seleccionada fue 'num_subscribers' y las variables independientes fueron 'price' y 'category'."
      ],
      "metadata": {
        "id": "e6qxClNRF7R4"
      }
    },
    {
      "cell_type": "code",
      "source": [
        "mean_price = data_udemy['price'].mean()\n",
        "print(mean_price)"
      ],
      "metadata": {
        "colab": {
          "base_uri": "https://localhost:8080/"
        },
        "id": "k8_IdrQEgpbC",
        "outputId": "e240c306-eceb-46a8-8414-48ff85ccece4"
      },
      "execution_count": null,
      "outputs": [
        {
          "output_type": "stream",
          "name": "stdout",
          "text": [
            "81.66552919412209\n"
          ]
        }
      ]
    },
    {
      "cell_type": "code",
      "source": [
        "data_udemy['category'] = pd.factorize(data_udemy['category'])[0]\n",
        "\n",
        "train_data = data_udemy.sample(frac=0.8, random_state=0)\n",
        "test_data = data_udemy.drop(train_data.index)\n",
        "\n",
        "X_train = train_data[['price', 'category']]\n",
        "y_train = train_data['num_subscribers']\n",
        "\n",
        "X_test = test_data[['price', 'category']]\n",
        "y_test = test_data['num_subscribers']\n",
        "\n",
        "ct = ColumnTransformer([('one_hot_encoder', OneHotEncoder(categories='auto', sparse=False), [1])], remainder='passthrough')\n",
        "\n",
        "X_train = ct.fit_transform(X_train)\n",
        "\n",
        "X_test = ct.transform(X_test)\n",
        "\n",
        "model = LinearRegression()\n",
        "model.fit(X_train, y_train)\n",
        "\n",
        "# Predecir el número de suscriptores para los cursos en función de su precio y categoría\n",
        "# Selecciona las categorías Business, Development e IT & Software (las categorías 1, 2 y 12 respectivamente)\n",
        "X_pred = ct.transform([[mean_price, 1], [mean_price, 2], [mean_price, 12]])\n",
        "y_pred = model.predict(X_pred)\n",
        "print(y_pred)"
      ],
      "metadata": {
        "colab": {
          "base_uri": "https://localhost:8080/"
        },
        "id": "TWuLX9Be2vHU",
        "outputId": "31afe7f3-426f-475d-8197-ea2f9e6ef6cd"
      },
      "execution_count": null,
      "outputs": [
        {
          "output_type": "stream",
          "name": "stderr",
          "text": [
            "/usr/local/lib/python3.10/dist-packages/sklearn/preprocessing/_encoders.py:868: FutureWarning: `sparse` was renamed to `sparse_output` in version 1.2 and will be removed in 1.4. `sparse_output` is ignored unless you leave `sparse` to its default value.\n",
            "  warnings.warn(\n"
          ]
        },
        {
          "output_type": "stream",
          "name": "stdout",
          "text": [
            "[2853.60789042 3087.31919967 3522.59312229]\n"
          ]
        },
        {
          "output_type": "stream",
          "name": "stderr",
          "text": [
            "/usr/local/lib/python3.10/dist-packages/sklearn/base.py:439: UserWarning: X does not have valid feature names, but OneHotEncoder was fitted with feature names\n",
            "  warnings.warn(\n"
          ]
        }
      ]
    },
    {
      "cell_type": "code",
      "source": [
        "from sklearn.metrics import mean_squared_error, r2_score\n",
        "\n",
        "# Predecir valores de y a partir de X de entrenamiento\n",
        "y_pred_train = model.predict(X_train)\n",
        "\n",
        "# Predecir valores de y a partir de X de prueba\n",
        "y_pred_test = model.predict(X_test)\n",
        "\n",
        "# Calcular el error cuadrático medio de los valores de entrenamiento\n",
        "mse_train = mean_squared_error(y_train, y_pred_train)\n",
        "\n",
        "# Calcular el error cuadrático medio de los valores de prueba\n",
        "mse_test = mean_squared_error(y_test, y_pred_test)\n",
        "\n",
        "# Calcular el coeficiente de determinación de los valores de entrenamiento\n",
        "r2_train = r2_score(y_train, y_pred_train)\n",
        "\n",
        "# Calcular el coeficiente de determinación de los valores de prueba\n",
        "r2_test = r2_score(y_test, y_pred_test)\n",
        "\n",
        "# Imprimir los resultados\n",
        "print(\"Error cuadrático medio (entrenamiento): {:.2f}\".format(mse_train))\n",
        "print(\"Error cuadrático medio (prueba): {:.2f}\".format(mse_test))\n",
        "print(\"Coeficiente de determinación (entrenamiento): {:.2f}\".format(r2_train))\n",
        "print(\"Coeficiente de determinación (prueba): {:.2f}\".format(r2_test))\n"
      ],
      "metadata": {
        "colab": {
          "base_uri": "https://localhost:8080/"
        },
        "id": "3sqYhh1SVG8s",
        "outputId": "7f9abe17-f41e-4c99-c03d-5ce14d29dc97"
      },
      "execution_count": null,
      "outputs": [
        {
          "output_type": "stream",
          "name": "stdout",
          "text": [
            "Error cuadrático medio (entrenamiento): 218934428.62\n",
            "Error cuadrático medio (prueba): 321740223.94\n",
            "Coeficiente de determinación (entrenamiento): 0.01\n",
            "Coeficiente de determinación (prueba): 0.01\n"
          ]
        }
      ]
    },
    {
      "cell_type": "markdown",
      "source": [
        "El resultado de la predicción en esta regresión lineal indica que el número de suscriptores esperados para un curso en la categoría de  Busines es de alrededor de 2,853, para un curso en la categoría de  Development es de alrededor de 3,087 y para un curso en la categoría de IT & Software es de alrededor de 3,522. Las predicciones se basan en un precio de $81.67, que es la media de los precios de los cursos en el conjunto de datos.\n",
        "\n",
        "\n",
        "Los resultados indican que el modelo tiene un bajo rendimiento tanto en el conjunto de entrenamiento como en el conjunto de prueba. El error cuadrático medio es bastante alto en ambos conjuntos, lo que puede sugerir que el modelo tiene dificultades para predecir con precisión el número de suscriptores. Además, los coeficientes de determinación son muy bajos, lo que indica que el modelo explica una cantidad muy pequeña de la variabilidad en los datos.\n",
        "\n",
        "Es posible que el modelo esté sufriendo de underfitting. Podría intentar agregar más características o utilizar un modelo más complejo para mejorar el rendimiento."
      ],
      "metadata": {
        "id": "E17kQeaCYLQo"
      }
    },
    {
      "cell_type": "markdown",
      "source": [
        "# **API Google Trends**"
      ],
      "metadata": {
        "id": "SZiEWxYFXsIM"
      }
    },
    {
      "cell_type": "markdown",
      "source": [
        "Después de considerar otras APIs públicas que pudieran complementar mi análisis de datos de los cursos de Udemy, decidí utilizar la API de Google Trends. Google Trends brinda datos sobre cómo cambia el interés de búsqueda de un término específico a lo largo del tiempo. Esto puede ayudar a entender las tendencias del mercado y la demanda de diferentes tipos de cursos, especificamente, en lo que refieres a las busquedas de los cursos de Udemy.\n",
        "\n",
        " Los datos muestran la popularidad relativa de cada término de búsqueda a lo largo del tiempo, en una escala de 0 a 100. Donde 100 representa el pico de popularidad del término de búsqueda durante un período de tiempo."
      ],
      "metadata": {
        "id": "kRNZUKAiNWOH"
      }
    },
    {
      "cell_type": "code",
      "source": [
        "!pip install pytrends"
      ],
      "metadata": {
        "colab": {
          "base_uri": "https://localhost:8080/"
        },
        "id": "C02fWdXfKA52",
        "outputId": "37e7e0ac-3b47-4b63-a46b-06a0453bb186"
      },
      "execution_count": null,
      "outputs": [
        {
          "output_type": "stream",
          "name": "stdout",
          "text": [
            "Looking in indexes: https://pypi.org/simple, https://us-python.pkg.dev/colab-wheels/public/simple/\n",
            "Collecting pytrends\n",
            "  Downloading pytrends-4.9.2-py3-none-any.whl (15 kB)\n",
            "Requirement already satisfied: requests>=2.0 in /usr/local/lib/python3.10/dist-packages (from pytrends) (2.27.1)\n",
            "Requirement already satisfied: pandas>=0.25 in /usr/local/lib/python3.10/dist-packages (from pytrends) (1.5.3)\n",
            "Requirement already satisfied: lxml in /usr/local/lib/python3.10/dist-packages (from pytrends) (4.9.2)\n",
            "Requirement already satisfied: python-dateutil>=2.8.1 in /usr/local/lib/python3.10/dist-packages (from pandas>=0.25->pytrends) (2.8.2)\n",
            "Requirement already satisfied: pytz>=2020.1 in /usr/local/lib/python3.10/dist-packages (from pandas>=0.25->pytrends) (2022.7.1)\n",
            "Requirement already satisfied: numpy>=1.21.0 in /usr/local/lib/python3.10/dist-packages (from pandas>=0.25->pytrends) (1.22.4)\n",
            "Requirement already satisfied: urllib3<1.27,>=1.21.1 in /usr/local/lib/python3.10/dist-packages (from requests>=2.0->pytrends) (1.26.15)\n",
            "Requirement already satisfied: certifi>=2017.4.17 in /usr/local/lib/python3.10/dist-packages (from requests>=2.0->pytrends) (2022.12.7)\n",
            "Requirement already satisfied: charset-normalizer~=2.0.0 in /usr/local/lib/python3.10/dist-packages (from requests>=2.0->pytrends) (2.0.12)\n",
            "Requirement already satisfied: idna<4,>=2.5 in /usr/local/lib/python3.10/dist-packages (from requests>=2.0->pytrends) (3.4)\n",
            "Requirement already satisfied: six>=1.5 in /usr/local/lib/python3.10/dist-packages (from python-dateutil>=2.8.1->pandas>=0.25->pytrends) (1.16.0)\n",
            "Installing collected packages: pytrends\n",
            "Successfully installed pytrends-4.9.2\n"
          ]
        }
      ]
    },
    {
      "cell_type": "code",
      "source": [
        "from pytrends.request import TrendReq\n",
        "\n",
        "pytrends = TrendReq(hl='en-US', tz=360)\n",
        "\n",
        "categorias = ['Development', 'Business', 'IT & Software'] #utilizo las 3 categorias mas populares en Udemy\n",
        "\n",
        "trends_data = {}\n",
        "\n",
        "for categoria in categorias:\n",
        "    pytrends.build_payload([categoria], timeframe='today 5-y', geo='')\n",
        "    interest_over_time_df = pytrends.interest_over_time()\n",
        "\n",
        "    trends_data[categoria] = interest_over_time_df\n",
        "\n",
        "for categoria, trends_df in trends_data.items():\n",
        "    print(f\"Trends data for {categoria}:\")\n",
        "    print(trends_df.head())"
      ],
      "metadata": {
        "colab": {
          "base_uri": "https://localhost:8080/"
        },
        "id": "_rSPTnlwMYFa",
        "outputId": "24ca208b-e4ca-45f8-b839-bf5fda0bb0ff"
      },
      "execution_count": null,
      "outputs": [
        {
          "output_type": "stream",
          "name": "stdout",
          "text": [
            "Trends data for Development:\n",
            "            Development  isPartial\n",
            "date                              \n",
            "2018-05-20           74      False\n",
            "2018-05-27           76      False\n",
            "2018-06-03           70      False\n",
            "2018-06-10           69      False\n",
            "2018-06-17           63      False\n",
            "Trends data for Business:\n",
            "            Business  isPartial\n",
            "date                           \n",
            "2018-05-20        60      False\n",
            "2018-05-27        57      False\n",
            "2018-06-03        60      False\n",
            "2018-06-10        60      False\n",
            "2018-06-17        57      False\n",
            "Trends data for IT & Software:\n",
            "            IT & Software  isPartial\n",
            "date                                \n",
            "2018-05-20             21      False\n",
            "2018-05-27             56      False\n",
            "2018-06-03             26      False\n",
            "2018-06-10             34      False\n",
            "2018-06-17             44      False\n"
          ]
        }
      ]
    },
    {
      "cell_type": "markdown",
      "source": [
        "Estos resultados son un conjunto de datos de las tendencias de búsqueda en Google para las categorías \"Development\", \"Business\", y \"IT & Software\" durante los últimos 5 años hasta la fecha actual."
      ],
      "metadata": {
        "id": "0EWsk3te-ybh"
      }
    }
  ]
}